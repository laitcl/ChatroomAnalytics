{
 "cells": [
  {
   "cell_type": "code",
   "execution_count": 1,
   "metadata": {},
   "outputs": [],
   "source": [
    "numnodes = 1\n",
    "counter = 1\n",
    "channelssection = False\n",
    "\n",
    "for i in range(1,numnodes+1):\n",
    "    vars()['file'+str(i)] = open('channellist'+str(i)+'.txt','w')\n",
    "\n",
    "with open ('credentials.js','r') as source:\n",
    "    for line in source:\n",
    "        if channelssection == False:\n",
    "            if line == \"  channels: [\\n\":\n",
    "                channelssection=True\n",
    "        elif channelssection == True:\n",
    "            if line == \"  ]\\n\":\n",
    "                channelssection = False\n",
    "                continue\n",
    "            vars()['file'+str(counter)].write(line.split('\"',2)[1]+'\\n')\n",
    "            counter += 1\n",
    "            if counter == numnodes+1:\n",
    "                counter =1\n",
    "\n",
    "for i in range(1,numnodes+1):\n",
    "    vars()[\"file\"+str(i)].close()"
   ]
  },
  {
   "cell_type": "code",
   "execution_count": 2,
   "metadata": {},
   "outputs": [
    {
     "name": "stdout",
     "output_type": "stream",
     "text": [
      "\r",
      "channellist1.txt                                0%    0     0.0KB/s   --:-- ETA\r",
      "channellist1.txt                              100% 1111    74.9KB/s   00:00    \r\n"
     ]
    }
   ],
   "source": [
    "#Copy to nodes\n",
    "!peg scp to-rem kafka-consumer 1 channellist1.txt ChatroomAnalytics/src/consumer/channellist.txt\n",
    "#!peg scp to-rem kafka-consumer 2 channellist2.txt ChatroomAnalytics/src/consumer/channellist.txt\n",
    "#!peg scp to-rem kafka-consumer 3 channellist3.txt ChatroomAnalytics/src/consumer/channellist.txt\n"
   ]
  },
  {
   "cell_type": "code",
   "execution_count": null,
   "metadata": {},
   "outputs": [],
   "source": []
  }
 ],
 "metadata": {
  "kernelspec": {
   "display_name": "Python 3",
   "language": "python",
   "name": "python3"
  },
  "language_info": {
   "codemirror_mode": {
    "name": "ipython",
    "version": 3
   },
   "file_extension": ".py",
   "mimetype": "text/x-python",
   "name": "python",
   "nbconvert_exporter": "python",
   "pygments_lexer": "ipython3",
   "version": "3.6.8"
  }
 },
 "nbformat": 4,
 "nbformat_minor": 2
}
