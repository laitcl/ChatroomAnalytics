{
 "cells": [
  {
   "cell_type": "code",
   "execution_count": 1,
   "metadata": {},
   "outputs": [],
   "source": [
    "numnodes = 2\n",
    "counter = 1\n",
    "channelssection = False\n",
    "\n",
    "for i in range(1,numnodes+1):\n",
    "    vars()['file'+str(i)] = open('credentials'+str(i)+'.js','w')\n",
    "\n",
    "with open ('credentials.js','r') as source:\n",
    "    for line in source:\n",
    "        if channelssection == False:\n",
    "            for i in range(1,numnodes+1):\n",
    "                vars()[\"file\"+str(i)].write(line)\n",
    "            if line == \"  channels: [\\n\":\n",
    "                channelssection=True\n",
    "        elif channelssection == True:\n",
    "            if line == \"  ]\\n\":\n",
    "                for i in range(1,numnodes+1):\n",
    "                    vars()[\"file\"+str(i)].write(line)\n",
    "                channelssection = False\n",
    "                continue\n",
    "            vars()['file'+str(counter)].write(line)\n",
    "            counter += 1\n",
    "            if counter > numnodes:\n",
    "                counter =1\n",
    "\n",
    "for i in range(1,numnodes+1):\n",
    "    vars()[\"file\"+str(i)].close()"
   ]
  },
  {
   "cell_type": "code",
   "execution_count": 2,
   "metadata": {},
   "outputs": [
    {
     "name": "stdout",
     "output_type": "stream",
     "text": [
      "credentials1.js                               100% 1123    45.2KB/s   00:00    \n",
      "credentials2.js                               100% 1156    41.7KB/s   00:00    \n",
      "credentials3.js                               100%  647    25.1KB/s   00:00    \n",
      "credentials4.js                               100%  631    23.8KB/s   00:00    \n"
     ]
    }
   ],
   "source": [
    "#Copy to nodes\n",
    "!peg scp to-rem kafka-producer 1 credentials1.js ChatroomAnalytics/src/TwitchBot/credentials.js\n",
    "!peg scp to-rem kafka-producer 2 credentials2.js ChatroomAnalytics/src/TwitchBot/credentials.js\n",
    "!peg scp to-rem kafka-producer 3 credentials3.js ChatroomAnalytics/src/TwitchBot/credentials.js\n",
    "!peg scp to-rem kafka-producer 4 credentials4.js ChatroomAnalytics/src/TwitchBot/credentials.js\n",
    "#!peg scp to-rem kafka-broker 2 credentials5.js ChatroomAnalytics/src/TwitchBot/credentials.js"
   ]
  },
  {
   "cell_type": "code",
   "execution_count": null,
   "metadata": {},
   "outputs": [],
   "source": []
  }
 ],
 "metadata": {
  "kernelspec": {
   "display_name": "Python 3",
   "language": "python",
   "name": "python3"
  },
  "language_info": {
   "codemirror_mode": {
    "name": "ipython",
    "version": 3
   },
   "file_extension": ".py",
   "mimetype": "text/x-python",
   "name": "python",
   "nbconvert_exporter": "python",
   "pygments_lexer": "ipython3",
   "version": "3.6.8"
  }
 },
 "nbformat": 4,
 "nbformat_minor": 2
}
