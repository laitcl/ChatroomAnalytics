{
 "cells": [
  {
   "cell_type": "markdown",
   "metadata": {
    "colab_type": "text",
    "id": "view-in-github"
   },
   "source": [
    "<a href=\"https://colab.research.google.com/github/Dark-Sied/Intent_Classification/blob/master/Intent_classification_final.ipynb\" target=\"_parent\"><img src=\"https://colab.research.google.com/assets/colab-badge.svg\" alt=\"Open In Colab\"/></a>"
   ]
  },
  {
   "cell_type": "code",
   "execution_count": 2,
   "metadata": {
    "colab": {
     "base_uri": "https://localhost:8080/",
     "height": 34
    },
    "colab_type": "code",
    "id": "a_WypuUXi92e",
    "outputId": "133d026e-4236-4ff6-f21d-739bfb9640db"
   },
   "outputs": [
    {
     "name": "stderr",
     "output_type": "stream",
     "text": [
      "Using TensorFlow backend.\n"
     ]
    }
   ],
   "source": [
    "import numpy as np\n",
    "import pandas as pd\n",
    "from nltk.corpus import stopwords\n",
    "from nltk.tokenize import word_tokenize\n",
    "from nltk.stem.lancaster import LancasterStemmer\n",
    "import nltk\n",
    "import re\n",
    "from sklearn.preprocessing import OneHotEncoder\n",
    "import matplotlib.pyplot as plt\n",
    "from keras.preprocessing.text import Tokenizer\n",
    "from keras.preprocessing.sequence import pad_sequences\n",
    "from keras.utils import to_categorical\n",
    "from keras.models import Sequential, load_model\n",
    "from keras.layers import Dense, LSTM, Bidirectional, Embedding, Dropout\n",
    "from keras.callbacks import ModelCheckpoint\n"
   ]
  },
  {
   "cell_type": "code",
   "execution_count": 0,
   "metadata": {
    "colab": {},
    "colab_type": "code",
    "id": "LE6wywJrN2ih"
   },
   "outputs": [],
   "source": [
    "def load_dataset(filename):\n",
    "  df = pd.read_csv(filename, encoding = \"latin1\", names = [\"Sentence\", \"Intent\"])\n",
    "  print(df.head())\n",
    "  intent = df[\"Intent\"]\n",
    "  unique_intent = list(set(intent))\n",
    "  sentences = list(df[\"Sentence\"])\n",
    "  \n",
    "  return (intent, unique_intent, sentences)\n",
    "  \n"
   ]
  },
  {
   "cell_type": "code",
   "execution_count": 5,
   "metadata": {
    "colab": {
     "base_uri": "https://localhost:8080/",
     "height": 119
    },
    "colab_type": "code",
    "id": "tF0FQA7gjOCX",
    "outputId": "c609b42a-05da-49f5-8d11-bd670210f635"
   },
   "outputs": [
    {
     "name": "stdout",
     "output_type": "stream",
     "text": [
      "                Sentence          Intent\n",
      "0       Need help pleese  commonQ.assist\n",
      "1              Need help  commonQ.assist\n",
      "2       I need some info  commonQ.assist\n",
      "3      Will you help me?  commonQ.assist\n",
      "4  What else can you do?  commonQ.assist\n"
     ]
    }
   ],
   "source": [
    "intent, unique_intent, sentences = load_dataset(\"classified_data.csv\")"
   ]
  },
  {
   "cell_type": "code",
   "execution_count": 0,
   "metadata": {
    "colab": {
     "base_uri": "https://localhost:8080/",
     "height": 34
    },
    "colab_type": "code",
    "id": "O8LLUZlokg0S",
    "outputId": "c15c21dc-2ef2-43b7-b4af-e7ee9e014091"
   },
   "outputs": [
    {
     "name": "stdout",
     "output_type": "stream",
     "text": [
      "['Need help pleese', 'Need help', 'I need some info', 'Will you help me?', 'What else can you do?']\n"
     ]
    }
   ],
   "source": [
    "print(sentences[:5])"
   ]
  },
  {
   "cell_type": "code",
   "execution_count": 0,
   "metadata": {
    "colab": {
     "base_uri": "https://localhost:8080/",
     "height": 102
    },
    "colab_type": "code",
    "id": "MhrziINPGHbW",
    "outputId": "0861af1b-4b82-4c92-b8f4-b6b57bb3e380"
   },
   "outputs": [
    {
     "name": "stdout",
     "output_type": "stream",
     "text": [
      "[nltk_data] Downloading package stopwords to /root/nltk_data...\n",
      "[nltk_data]   Unzipping corpora/stopwords.zip.\n",
      "[nltk_data] Downloading package punkt to /root/nltk_data...\n",
      "[nltk_data]   Unzipping tokenizers/punkt.zip.\n"
     ]
    },
    {
     "data": {
      "text/plain": [
       "True"
      ]
     },
     "execution_count": 6,
     "metadata": {
      "tags": []
     },
     "output_type": "execute_result"
    }
   ],
   "source": [
    "nltk.download(\"stopwords\")\n",
    "nltk.download(\"punkt\")"
   ]
  },
  {
   "cell_type": "code",
   "execution_count": 0,
   "metadata": {
    "colab": {},
    "colab_type": "code",
    "id": "OmNLu2YSXePb"
   },
   "outputs": [],
   "source": [
    "#define stemmer\n",
    "stemmer = LancasterStemmer()"
   ]
  },
  {
   "cell_type": "code",
   "execution_count": 0,
   "metadata": {
    "colab": {},
    "colab_type": "code",
    "id": "j-7q3iG5PKYI"
   },
   "outputs": [],
   "source": [
    "def cleaning(sentences):\n",
    "  words = []\n",
    "  for s in sentences:\n",
    "    clean = re.sub(r'[^ a-z A-Z 0-9]', \" \", s)\n",
    "    w = word_tokenize(clean)\n",
    "    #stemming\n",
    "    words.append([i.lower() for i in w])\n",
    "    \n",
    "  return words  "
   ]
  },
  {
   "cell_type": "code",
   "execution_count": 0,
   "metadata": {
    "colab": {
     "base_uri": "https://localhost:8080/",
     "height": 51
    },
    "colab_type": "code",
    "id": "p1j2GJgDG6qj",
    "outputId": "c7232a8e-6833-4a1d-e71a-4bc7014084a9"
   },
   "outputs": [
    {
     "name": "stdout",
     "output_type": "stream",
     "text": [
      "1113\n",
      "[['need', 'help', 'pleese'], ['need', 'help']]\n"
     ]
    }
   ],
   "source": [
    "cleaned_words = cleaning(sentences)\n",
    "print(len(cleaned_words))\n",
    "print(cleaned_words[:2])  \n",
    "  \n"
   ]
  },
  {
   "cell_type": "code",
   "execution_count": 0,
   "metadata": {
    "colab": {},
    "colab_type": "code",
    "id": "SJCQ_YhBJW7t"
   },
   "outputs": [],
   "source": [
    "def create_tokenizer(words, filters = '!\"#$%&()*+,-./:;<=>?@[\\]^_`{|}~'):\n",
    "  token = Tokenizer(filters = filters)\n",
    "  token.fit_on_texts(words)\n",
    "  return token"
   ]
  },
  {
   "cell_type": "code",
   "execution_count": 0,
   "metadata": {
    "colab": {},
    "colab_type": "code",
    "id": "QJhdIJC5Q3Q6"
   },
   "outputs": [],
   "source": [
    "def max_length(words):\n",
    "  return(len(max(words, key = len)))\n",
    "  "
   ]
  },
  {
   "cell_type": "code",
   "execution_count": 0,
   "metadata": {
    "colab": {
     "base_uri": "https://localhost:8080/",
     "height": 34
    },
    "colab_type": "code",
    "id": "JWjxPGsZZJNX",
    "outputId": "b02c8f6b-d0df-4e90-fa3a-2ff730c88300"
   },
   "outputs": [
    {
     "name": "stdout",
     "output_type": "stream",
     "text": [
      "Vocab Size = 492 and Maximum length = 28\n"
     ]
    }
   ],
   "source": [
    "word_tokenizer = create_tokenizer(cleaned_words)\n",
    "vocab_size = len(word_tokenizer.word_index) + 1\n",
    "max_length = max_length(cleaned_words)\n",
    "\n",
    "print(\"Vocab Size = %d and Maximum length = %d\" % (vocab_size, max_length))"
   ]
  },
  {
   "cell_type": "code",
   "execution_count": 0,
   "metadata": {
    "colab": {},
    "colab_type": "code",
    "id": "D0TXu2xsR8jq"
   },
   "outputs": [],
   "source": [
    "def encoding_doc(token, words):\n",
    "  return(token.texts_to_sequences(words))"
   ]
  },
  {
   "cell_type": "code",
   "execution_count": 0,
   "metadata": {
    "colab": {},
    "colab_type": "code",
    "id": "dE92Hk1Va--H"
   },
   "outputs": [],
   "source": [
    "encoded_doc = encoding_doc(word_tokenizer, cleaned_words)"
   ]
  },
  {
   "cell_type": "code",
   "execution_count": 0,
   "metadata": {
    "colab": {},
    "colab_type": "code",
    "id": "fyOzLEboc4LZ"
   },
   "outputs": [],
   "source": [
    "def padding_doc(encoded_doc, max_length):\n",
    "  return(pad_sequences(encoded_doc, maxlen = max_length, padding = \"post\"))"
   ]
  },
  {
   "cell_type": "code",
   "execution_count": 0,
   "metadata": {
    "colab": {},
    "colab_type": "code",
    "id": "WdejoJrlc-tc"
   },
   "outputs": [],
   "source": [
    "padded_doc = padding_doc(encoded_doc, max_length)"
   ]
  },
  {
   "cell_type": "code",
   "execution_count": 0,
   "metadata": {
    "colab": {
     "base_uri": "https://localhost:8080/",
     "height": 272
    },
    "colab_type": "code",
    "id": "gDgTCS2KdI2p",
    "outputId": "ac5332cd-0a0f-4311-8db4-22df92728d90"
   },
   "outputs": [
    {
     "data": {
      "text/plain": [
       "array([[ 25,  77, 332,   0,   0,   0,   0,   0,   0,   0,   0,   0,   0,\n",
       "          0,   0,   0,   0,   0,   0,   0,   0,   0,   0,   0,   0,   0,\n",
       "          0,   0],\n",
       "       [ 25,  77,   0,   0,   0,   0,   0,   0,   0,   0,   0,   0,   0,\n",
       "          0,   0,   0,   0,   0,   0,   0,   0,   0,   0,   0,   0,   0,\n",
       "          0,   0],\n",
       "       [  1,  25, 198, 181,   0,   0,   0,   0,   0,   0,   0,   0,   0,\n",
       "          0,   0,   0,   0,   0,   0,   0,   0,   0,   0,   0,   0,   0,\n",
       "          0,   0],\n",
       "       [ 51,  10,  77,  16,   0,   0,   0,   0,   0,   0,   0,   0,   0,\n",
       "          0,   0,   0,   0,   0,   0,   0,   0,   0,   0,   0,   0,   0,\n",
       "          0,   0],\n",
       "       [  8, 268,   4,  10,  30,   0,   0,   0,   0,   0,   0,   0,   0,\n",
       "          0,   0,   0,   0,   0,   0,   0,   0,   0,   0,   0,   0,   0,\n",
       "          0,   0]], dtype=int32)"
      ]
     },
     "execution_count": 103,
     "metadata": {
      "tags": []
     },
     "output_type": "execute_result"
    }
   ],
   "source": [
    "padded_doc[:5]"
   ]
  },
  {
   "cell_type": "code",
   "execution_count": 0,
   "metadata": {
    "colab": {
     "base_uri": "https://localhost:8080/",
     "height": 34
    },
    "colab_type": "code",
    "id": "3eaSIDi0dNf1",
    "outputId": "4ab6b6dd-ffa4-4061-9e9d-7a01decfa837"
   },
   "outputs": [
    {
     "name": "stdout",
     "output_type": "stream",
     "text": [
      "Shape of padded docs =  (1113, 28)\n"
     ]
    }
   ],
   "source": [
    "print(\"Shape of padded docs = \",padded_doc.shape)"
   ]
  },
  {
   "cell_type": "code",
   "execution_count": 0,
   "metadata": {
    "colab": {},
    "colab_type": "code",
    "id": "X0rXzenSpgFR"
   },
   "outputs": [],
   "source": [
    "#tokenizer with filter changed\n",
    "output_tokenizer = create_tokenizer(unique_intent, filters = '!\"#$%&()*+,-/:;<=>?@[\\]^`{|}~')\n"
   ]
  },
  {
   "cell_type": "code",
   "execution_count": 0,
   "metadata": {
    "colab": {
     "base_uri": "https://localhost:8080/",
     "height": 374
    },
    "colab_type": "code",
    "id": "yNHQtkszskxr",
    "outputId": "f5babc01-89e3-4392-e8e6-c9f257de3d07"
   },
   "outputs": [
    {
     "data": {
      "text/plain": [
       "{'commonq.assist': 7,\n",
       " 'commonq.bot': 17,\n",
       " 'commonq.how': 10,\n",
       " 'commonq.just_details': 20,\n",
       " 'commonq.name': 19,\n",
       " 'commonq.not_giving': 4,\n",
       " 'commonq.query': 12,\n",
       " 'commonq.wait': 14,\n",
       " 'contact.contact': 8,\n",
       " 'faq.aadhaar_missing': 2,\n",
       " 'faq.address_proof': 15,\n",
       " 'faq.application_process': 21,\n",
       " 'faq.apply_register': 16,\n",
       " 'faq.approval_time': 13,\n",
       " 'faq.bad_service': 1,\n",
       " 'faq.banking_option_missing': 18,\n",
       " 'faq.biz_category_missing': 9,\n",
       " 'faq.biz_new': 5,\n",
       " 'faq.biz_simpler': 6,\n",
       " 'faq.borrow_limit': 3,\n",
       " 'faq.borrow_use': 11}"
      ]
     },
     "execution_count": 106,
     "metadata": {
      "tags": []
     },
     "output_type": "execute_result"
    }
   ],
   "source": [
    "output_tokenizer.word_index"
   ]
  },
  {
   "cell_type": "code",
   "execution_count": 0,
   "metadata": {
    "colab": {},
    "colab_type": "code",
    "id": "7OOx9qdBto1-"
   },
   "outputs": [],
   "source": [
    "encoded_output = encoding_doc(output_tokenizer, intent)"
   ]
  },
  {
   "cell_type": "code",
   "execution_count": 0,
   "metadata": {
    "colab": {},
    "colab_type": "code",
    "id": "0_5Lv5PiyG-z"
   },
   "outputs": [],
   "source": [
    "encoded_output = np.array(encoded_output).reshape(len(encoded_output), 1)"
   ]
  },
  {
   "cell_type": "code",
   "execution_count": 0,
   "metadata": {
    "colab": {
     "base_uri": "https://localhost:8080/",
     "height": 34
    },
    "colab_type": "code",
    "id": "dpM86WrVQlx5",
    "outputId": "71ff52a6-b3d0-4b5c-850d-5dc0a56c8aa9"
   },
   "outputs": [
    {
     "data": {
      "text/plain": [
       "(1113, 1)"
      ]
     },
     "execution_count": 109,
     "metadata": {
      "tags": []
     },
     "output_type": "execute_result"
    }
   ],
   "source": [
    "encoded_output.shape"
   ]
  },
  {
   "cell_type": "code",
   "execution_count": 0,
   "metadata": {
    "colab": {},
    "colab_type": "code",
    "id": "rD3QN-RPzfet"
   },
   "outputs": [],
   "source": [
    "def one_hot(encode):\n",
    "  o = OneHotEncoder(sparse = False)\n",
    "  return(o.fit_transform(encode))"
   ]
  },
  {
   "cell_type": "code",
   "execution_count": 0,
   "metadata": {
    "colab": {},
    "colab_type": "code",
    "id": "Z6wP_Xed7RNR"
   },
   "outputs": [],
   "source": [
    "output_one_hot = one_hot(encoded_output)"
   ]
  },
  {
   "cell_type": "code",
   "execution_count": 0,
   "metadata": {
    "colab": {
     "base_uri": "https://localhost:8080/",
     "height": 34
    },
    "colab_type": "code",
    "id": "A6HVslLTHgOM",
    "outputId": "752962df-02d8-409b-fb8f-adb06227161d"
   },
   "outputs": [
    {
     "data": {
      "text/plain": [
       "(1113, 21)"
      ]
     },
     "execution_count": 112,
     "metadata": {
      "tags": []
     },
     "output_type": "execute_result"
    }
   ],
   "source": [
    "output_one_hot.shape"
   ]
  },
  {
   "cell_type": "code",
   "execution_count": 0,
   "metadata": {
    "colab": {},
    "colab_type": "code",
    "id": "EqABUESD7xi9"
   },
   "outputs": [],
   "source": [
    "from sklearn.model_selection import train_test_split"
   ]
  },
  {
   "cell_type": "code",
   "execution_count": 0,
   "metadata": {
    "colab": {},
    "colab_type": "code",
    "id": "h8P4HTz6A4E-"
   },
   "outputs": [],
   "source": [
    "train_X, val_X, train_Y, val_Y = train_test_split(padded_doc, output_one_hot, shuffle = True, test_size = 0.2)\n"
   ]
  },
  {
   "cell_type": "code",
   "execution_count": 0,
   "metadata": {
    "colab": {
     "base_uri": "https://localhost:8080/",
     "height": 51
    },
    "colab_type": "code",
    "id": "7E0uhC2OCtTx",
    "outputId": "6ce0e215-aa3f-43f1-ba5a-0b584b25a35c"
   },
   "outputs": [
    {
     "name": "stdout",
     "output_type": "stream",
     "text": [
      "Shape of train_X = (890, 28) and train_Y = (890, 21)\n",
      "Shape of val_X = (223, 28) and val_Y = (223, 21)\n"
     ]
    }
   ],
   "source": [
    "print(\"Shape of train_X = %s and train_Y = %s\" % (train_X.shape, train_Y.shape))\n",
    "print(\"Shape of val_X = %s and val_Y = %s\" % (val_X.shape, val_Y.shape))"
   ]
  },
  {
   "cell_type": "code",
   "execution_count": 0,
   "metadata": {
    "colab": {},
    "colab_type": "code",
    "id": "e5BU_x74DNEb"
   },
   "outputs": [],
   "source": [
    "def create_model(vocab_size, max_length):\n",
    "  model = Sequential()\n",
    "  model.add(Embedding(vocab_size, 128, input_length = max_length, trainable = False))\n",
    "  model.add(Bidirectional(LSTM(128)))\n",
    "#   model.add(LSTM(128))\n",
    "  model.add(Dense(32, activation = \"relu\"))\n",
    "  model.add(Dropout(0.5))\n",
    "  model.add(Dense(21, activation = \"softmax\"))\n",
    "  \n",
    "  return model"
   ]
  },
  {
   "cell_type": "code",
   "execution_count": 0,
   "metadata": {
    "colab": {
     "base_uri": "https://localhost:8080/",
     "height": 306
    },
    "colab_type": "code",
    "id": "f-NvE0P7MFCe",
    "outputId": "8f07056b-579e-4c15-e1af-bdfa8f681e79"
   },
   "outputs": [
    {
     "name": "stdout",
     "output_type": "stream",
     "text": [
      "_________________________________________________________________\n",
      "Layer (type)                 Output Shape              Param #   \n",
      "=================================================================\n",
      "embedding_4 (Embedding)      (None, 28, 128)           62976     \n",
      "_________________________________________________________________\n",
      "bidirectional_4 (Bidirection (None, 256)               263168    \n",
      "_________________________________________________________________\n",
      "dense_7 (Dense)              (None, 32)                8224      \n",
      "_________________________________________________________________\n",
      "dropout_4 (Dropout)          (None, 32)                0         \n",
      "_________________________________________________________________\n",
      "dense_8 (Dense)              (None, 21)                693       \n",
      "=================================================================\n",
      "Total params: 335,061\n",
      "Trainable params: 272,085\n",
      "Non-trainable params: 62,976\n",
      "_________________________________________________________________\n"
     ]
    }
   ],
   "source": [
    "model = create_model(vocab_size, max_length)\n",
    "\n",
    "model.compile(loss = \"categorical_crossentropy\", optimizer = \"adam\", metrics = [\"accuracy\"])\n",
    "model.summary()"
   ]
  },
  {
   "cell_type": "code",
   "execution_count": 0,
   "metadata": {
    "colab": {
     "base_uri": "https://localhost:8080/",
     "height": 6834
    },
    "colab_type": "code",
    "id": "_r-dxm2sMQ-d",
    "outputId": "3c37b4f8-fc4e-4c82-ab46-2aa1d8b47ffd"
   },
   "outputs": [
    {
     "name": "stdout",
     "output_type": "stream",
     "text": [
      "Train on 890 samples, validate on 223 samples\n",
      "Epoch 1/100\n",
      "890/890 [==============================] - 6s 7ms/step - loss: 2.9782 - acc: 0.1360 - val_loss: 2.9043 - val_acc: 0.1525\n",
      "\n",
      "Epoch 00001: val_loss improved from inf to 2.90433, saving model to model.h5\n",
      "Epoch 2/100\n",
      "890/890 [==============================] - 2s 3ms/step - loss: 2.8882 - acc: 0.1427 - val_loss: 2.7992 - val_acc: 0.1525\n",
      "\n",
      "Epoch 00002: val_loss improved from 2.90433 to 2.79918, saving model to model.h5\n",
      "Epoch 3/100\n",
      "890/890 [==============================] - 2s 3ms/step - loss: 2.7819 - acc: 0.1820 - val_loss: 2.7268 - val_acc: 0.1525\n",
      "\n",
      "Epoch 00003: val_loss improved from 2.79918 to 2.72683, saving model to model.h5\n",
      "Epoch 4/100\n",
      "890/890 [==============================] - 2s 3ms/step - loss: 2.6952 - acc: 0.1944 - val_loss: 2.5927 - val_acc: 0.1749\n",
      "\n",
      "Epoch 00004: val_loss improved from 2.72683 to 2.59273, saving model to model.h5\n",
      "Epoch 5/100\n",
      "890/890 [==============================] - 2s 3ms/step - loss: 2.5884 - acc: 0.2180 - val_loss: 2.4909 - val_acc: 0.1794\n",
      "\n",
      "Epoch 00005: val_loss improved from 2.59273 to 2.49095, saving model to model.h5\n",
      "Epoch 6/100\n",
      "890/890 [==============================] - 2s 3ms/step - loss: 2.5344 - acc: 0.2326 - val_loss: 2.4230 - val_acc: 0.2287\n",
      "\n",
      "Epoch 00006: val_loss improved from 2.49095 to 2.42305, saving model to model.h5\n",
      "Epoch 7/100\n",
      "890/890 [==============================] - 2s 3ms/step - loss: 2.4384 - acc: 0.2652 - val_loss: 2.2649 - val_acc: 0.3094\n",
      "\n",
      "Epoch 00007: val_loss improved from 2.42305 to 2.26485, saving model to model.h5\n",
      "Epoch 8/100\n",
      "890/890 [==============================] - 2s 3ms/step - loss: 2.2893 - acc: 0.3225 - val_loss: 2.2760 - val_acc: 0.3004\n",
      "\n",
      "Epoch 00008: val_loss did not improve from 2.26485\n",
      "Epoch 9/100\n",
      "890/890 [==============================] - 2s 3ms/step - loss: 2.2054 - acc: 0.3180 - val_loss: 2.0418 - val_acc: 0.4036\n",
      "\n",
      "Epoch 00009: val_loss improved from 2.26485 to 2.04178, saving model to model.h5\n",
      "Epoch 10/100\n",
      "890/890 [==============================] - 2s 3ms/step - loss: 2.0911 - acc: 0.3607 - val_loss: 1.8431 - val_acc: 0.4215\n",
      "\n",
      "Epoch 00010: val_loss improved from 2.04178 to 1.84305, saving model to model.h5\n",
      "Epoch 11/100\n",
      "890/890 [==============================] - 2s 3ms/step - loss: 1.9722 - acc: 0.3910 - val_loss: 1.8036 - val_acc: 0.4305\n",
      "\n",
      "Epoch 00011: val_loss improved from 1.84305 to 1.80357, saving model to model.h5\n",
      "Epoch 12/100\n",
      "890/890 [==============================] - 2s 3ms/step - loss: 1.8889 - acc: 0.4079 - val_loss: 1.8256 - val_acc: 0.4664\n",
      "\n",
      "Epoch 00012: val_loss did not improve from 1.80357\n",
      "Epoch 13/100\n",
      "890/890 [==============================] - 2s 3ms/step - loss: 1.8134 - acc: 0.4292 - val_loss: 1.5980 - val_acc: 0.5067\n",
      "\n",
      "Epoch 00013: val_loss improved from 1.80357 to 1.59800, saving model to model.h5\n",
      "Epoch 14/100\n",
      "890/890 [==============================] - 2s 3ms/step - loss: 1.7388 - acc: 0.4640 - val_loss: 1.5988 - val_acc: 0.5650\n",
      "\n",
      "Epoch 00014: val_loss did not improve from 1.59800\n",
      "Epoch 15/100\n",
      "890/890 [==============================] - 2s 3ms/step - loss: 1.6806 - acc: 0.4809 - val_loss: 1.4517 - val_acc: 0.5605\n",
      "\n",
      "Epoch 00015: val_loss improved from 1.59800 to 1.45165, saving model to model.h5\n",
      "Epoch 16/100\n",
      "890/890 [==============================] - 2s 3ms/step - loss: 1.6481 - acc: 0.4978 - val_loss: 1.4127 - val_acc: 0.5650\n",
      "\n",
      "Epoch 00016: val_loss improved from 1.45165 to 1.41267, saving model to model.h5\n",
      "Epoch 17/100\n",
      "890/890 [==============================] - 2s 3ms/step - loss: 1.6591 - acc: 0.4775 - val_loss: 1.4162 - val_acc: 0.5740\n",
      "\n",
      "Epoch 00017: val_loss did not improve from 1.41267\n",
      "Epoch 18/100\n",
      "890/890 [==============================] - 2s 3ms/step - loss: 1.6171 - acc: 0.5169 - val_loss: 1.4132 - val_acc: 0.6009\n",
      "\n",
      "Epoch 00018: val_loss did not improve from 1.41267\n",
      "Epoch 19/100\n",
      "890/890 [==============================] - 2s 3ms/step - loss: 1.5152 - acc: 0.5427 - val_loss: 1.3624 - val_acc: 0.5830\n",
      "\n",
      "Epoch 00019: val_loss improved from 1.41267 to 1.36240, saving model to model.h5\n",
      "Epoch 20/100\n",
      "890/890 [==============================] - 2s 3ms/step - loss: 1.4123 - acc: 0.5584 - val_loss: 1.2573 - val_acc: 0.6188\n",
      "\n",
      "Epoch 00020: val_loss improved from 1.36240 to 1.25734, saving model to model.h5\n",
      "Epoch 21/100\n",
      "890/890 [==============================] - 2s 3ms/step - loss: 1.3911 - acc: 0.5629 - val_loss: 1.2025 - val_acc: 0.6413\n",
      "\n",
      "Epoch 00021: val_loss improved from 1.25734 to 1.20246, saving model to model.h5\n",
      "Epoch 22/100\n",
      "890/890 [==============================] - 2s 3ms/step - loss: 1.3692 - acc: 0.5618 - val_loss: 1.1954 - val_acc: 0.6502\n",
      "\n",
      "Epoch 00022: val_loss improved from 1.20246 to 1.19541, saving model to model.h5\n",
      "Epoch 23/100\n",
      "890/890 [==============================] - 3s 3ms/step - loss: 1.3567 - acc: 0.5854 - val_loss: 1.2296 - val_acc: 0.6413\n",
      "\n",
      "Epoch 00023: val_loss did not improve from 1.19541\n",
      "Epoch 24/100\n",
      "890/890 [==============================] - 3s 3ms/step - loss: 1.3136 - acc: 0.6090 - val_loss: 1.1392 - val_acc: 0.6502\n",
      "\n",
      "Epoch 00024: val_loss improved from 1.19541 to 1.13922, saving model to model.h5\n",
      "Epoch 25/100\n",
      "890/890 [==============================] - 3s 3ms/step - loss: 1.2580 - acc: 0.6079 - val_loss: 1.1172 - val_acc: 0.6682\n",
      "\n",
      "Epoch 00025: val_loss improved from 1.13922 to 1.11720, saving model to model.h5\n",
      "Epoch 26/100\n",
      "890/890 [==============================] - 2s 3ms/step - loss: 1.2573 - acc: 0.6022 - val_loss: 1.1207 - val_acc: 0.6771\n",
      "\n",
      "Epoch 00026: val_loss did not improve from 1.11720\n",
      "Epoch 27/100\n",
      "890/890 [==============================] - 3s 3ms/step - loss: 1.2052 - acc: 0.6494 - val_loss: 1.0577 - val_acc: 0.7040\n",
      "\n",
      "Epoch 00027: val_loss improved from 1.11720 to 1.05773, saving model to model.h5\n",
      "Epoch 28/100\n",
      "890/890 [==============================] - 3s 3ms/step - loss: 1.1640 - acc: 0.6382 - val_loss: 0.9915 - val_acc: 0.6816\n",
      "\n",
      "Epoch 00028: val_loss improved from 1.05773 to 0.99155, saving model to model.h5\n",
      "Epoch 29/100\n",
      "890/890 [==============================] - 2s 3ms/step - loss: 1.1565 - acc: 0.6292 - val_loss: 1.0559 - val_acc: 0.6861\n",
      "\n",
      "Epoch 00029: val_loss did not improve from 0.99155\n",
      "Epoch 30/100\n",
      "890/890 [==============================] - 2s 3ms/step - loss: 1.0922 - acc: 0.6506 - val_loss: 1.0099 - val_acc: 0.7220\n",
      "\n",
      "Epoch 00030: val_loss did not improve from 0.99155\n",
      "Epoch 31/100\n",
      "890/890 [==============================] - 2s 3ms/step - loss: 1.0533 - acc: 0.6854 - val_loss: 0.9850 - val_acc: 0.6951\n",
      "\n",
      "Epoch 00031: val_loss improved from 0.99155 to 0.98495, saving model to model.h5\n",
      "Epoch 32/100\n",
      "890/890 [==============================] - 2s 3ms/step - loss: 1.1115 - acc: 0.6449 - val_loss: 1.2664 - val_acc: 0.6368\n",
      "\n",
      "Epoch 00032: val_loss did not improve from 0.98495\n",
      "Epoch 33/100\n",
      "890/890 [==============================] - 2s 3ms/step - loss: 1.1076 - acc: 0.6708 - val_loss: 0.9223 - val_acc: 0.7175\n",
      "\n",
      "Epoch 00033: val_loss improved from 0.98495 to 0.92228, saving model to model.h5\n",
      "Epoch 34/100\n",
      "890/890 [==============================] - 2s 3ms/step - loss: 1.0198 - acc: 0.6798 - val_loss: 0.8825 - val_acc: 0.7399\n",
      "\n",
      "Epoch 00034: val_loss improved from 0.92228 to 0.88248, saving model to model.h5\n",
      "Epoch 35/100\n",
      "890/890 [==============================] - 2s 3ms/step - loss: 0.9960 - acc: 0.6854 - val_loss: 0.8666 - val_acc: 0.7444\n",
      "\n",
      "Epoch 00035: val_loss improved from 0.88248 to 0.86660, saving model to model.h5\n",
      "Epoch 36/100\n",
      "890/890 [==============================] - 2s 3ms/step - loss: 0.9735 - acc: 0.6966 - val_loss: 0.9215 - val_acc: 0.7265\n",
      "\n",
      "Epoch 00036: val_loss did not improve from 0.86660\n",
      "Epoch 37/100\n",
      "890/890 [==============================] - 2s 3ms/step - loss: 1.0231 - acc: 0.6742 - val_loss: 0.9054 - val_acc: 0.7444\n",
      "\n",
      "Epoch 00037: val_loss did not improve from 0.86660\n",
      "Epoch 38/100\n",
      "890/890 [==============================] - 2s 3ms/step - loss: 1.0616 - acc: 0.6719 - val_loss: 0.8545 - val_acc: 0.7534\n",
      "\n",
      "Epoch 00038: val_loss improved from 0.86660 to 0.85449, saving model to model.h5\n",
      "Epoch 39/100\n",
      "890/890 [==============================] - 2s 3ms/step - loss: 0.9474 - acc: 0.7056 - val_loss: 0.8238 - val_acc: 0.7578\n",
      "\n",
      "Epoch 00039: val_loss improved from 0.85449 to 0.82379, saving model to model.h5\n",
      "Epoch 40/100\n",
      "890/890 [==============================] - 2s 3ms/step - loss: 0.9228 - acc: 0.7067 - val_loss: 0.8466 - val_acc: 0.7354\n",
      "\n",
      "Epoch 00040: val_loss did not improve from 0.82379\n",
      "Epoch 41/100\n",
      "890/890 [==============================] - 2s 3ms/step - loss: 0.8751 - acc: 0.7191 - val_loss: 0.8223 - val_acc: 0.7623\n",
      "\n",
      "Epoch 00041: val_loss improved from 0.82379 to 0.82228, saving model to model.h5\n",
      "Epoch 42/100\n",
      "890/890 [==============================] - 2s 3ms/step - loss: 0.8343 - acc: 0.7303 - val_loss: 0.7481 - val_acc: 0.7848\n",
      "\n",
      "Epoch 00042: val_loss improved from 0.82228 to 0.74811, saving model to model.h5\n",
      "Epoch 43/100\n",
      "890/890 [==============================] - 2s 3ms/step - loss: 0.8497 - acc: 0.7258 - val_loss: 0.7794 - val_acc: 0.7668\n",
      "\n",
      "Epoch 00043: val_loss did not improve from 0.74811\n",
      "Epoch 44/100\n",
      "890/890 [==============================] - 2s 3ms/step - loss: 0.8781 - acc: 0.7281 - val_loss: 0.8378 - val_acc: 0.7578\n",
      "\n",
      "Epoch 00044: val_loss did not improve from 0.74811\n",
      "Epoch 45/100\n",
      "890/890 [==============================] - 2s 3ms/step - loss: 0.8854 - acc: 0.7169 - val_loss: 0.7789 - val_acc: 0.7668\n",
      "\n",
      "Epoch 00045: val_loss did not improve from 0.74811\n",
      "Epoch 46/100\n",
      "890/890 [==============================] - 2s 3ms/step - loss: 0.7754 - acc: 0.7562 - val_loss: 0.7232 - val_acc: 0.7623\n",
      "\n",
      "Epoch 00046: val_loss improved from 0.74811 to 0.72315, saving model to model.h5\n",
      "Epoch 47/100\n",
      "890/890 [==============================] - 2s 3ms/step - loss: 0.8354 - acc: 0.7382 - val_loss: 0.7596 - val_acc: 0.7758\n",
      "\n",
      "Epoch 00047: val_loss did not improve from 0.72315\n",
      "Epoch 48/100\n",
      "890/890 [==============================] - 2s 3ms/step - loss: 0.8539 - acc: 0.7169 - val_loss: 0.7435 - val_acc: 0.7534\n",
      "\n",
      "Epoch 00048: val_loss did not improve from 0.72315\n",
      "Epoch 49/100\n",
      "890/890 [==============================] - 2s 3ms/step - loss: 0.7900 - acc: 0.7618 - val_loss: 0.7327 - val_acc: 0.7848\n",
      "\n",
      "Epoch 00049: val_loss did not improve from 0.72315\n",
      "Epoch 50/100\n",
      "890/890 [==============================] - 2s 3ms/step - loss: 0.7821 - acc: 0.7528 - val_loss: 0.7316 - val_acc: 0.7713\n",
      "\n",
      "Epoch 00050: val_loss did not improve from 0.72315\n",
      "Epoch 51/100\n",
      "890/890 [==============================] - 2s 3ms/step - loss: 0.7592 - acc: 0.7472 - val_loss: 0.6988 - val_acc: 0.7937\n",
      "\n",
      "Epoch 00051: val_loss improved from 0.72315 to 0.69884, saving model to model.h5\n",
      "Epoch 52/100\n",
      "890/890 [==============================] - 2s 3ms/step - loss: 0.7563 - acc: 0.7551 - val_loss: 0.7993 - val_acc: 0.7399\n",
      "\n",
      "Epoch 00052: val_loss did not improve from 0.69884\n",
      "Epoch 53/100\n",
      "890/890 [==============================] - 2s 3ms/step - loss: 0.7789 - acc: 0.7573 - val_loss: 0.7125 - val_acc: 0.7982\n",
      "\n",
      "Epoch 00053: val_loss did not improve from 0.69884\n",
      "Epoch 54/100\n",
      "890/890 [==============================] - 2s 3ms/step - loss: 0.7379 - acc: 0.7629 - val_loss: 0.6673 - val_acc: 0.7937\n",
      "\n",
      "Epoch 00054: val_loss improved from 0.69884 to 0.66734, saving model to model.h5\n",
      "Epoch 55/100\n",
      "890/890 [==============================] - 2s 3ms/step - loss: 0.6960 - acc: 0.7798 - val_loss: 0.6728 - val_acc: 0.8072\n",
      "\n",
      "Epoch 00055: val_loss did not improve from 0.66734\n",
      "Epoch 56/100\n",
      "890/890 [==============================] - 2s 3ms/step - loss: 0.7107 - acc: 0.7697 - val_loss: 0.7927 - val_acc: 0.7937\n",
      "\n",
      "Epoch 00056: val_loss did not improve from 0.66734\n",
      "Epoch 57/100\n",
      "890/890 [==============================] - 2s 3ms/step - loss: 0.6797 - acc: 0.7865 - val_loss: 0.6742 - val_acc: 0.7848\n",
      "\n",
      "Epoch 00057: val_loss did not improve from 0.66734\n",
      "Epoch 58/100\n",
      "890/890 [==============================] - 2s 3ms/step - loss: 0.8060 - acc: 0.7528 - val_loss: 0.7272 - val_acc: 0.7982\n",
      "\n",
      "Epoch 00058: val_loss did not improve from 0.66734\n",
      "Epoch 59/100\n",
      "890/890 [==============================] - 2s 3ms/step - loss: 0.7402 - acc: 0.7584 - val_loss: 0.6084 - val_acc: 0.8117\n",
      "\n",
      "Epoch 00059: val_loss improved from 0.66734 to 0.60839, saving model to model.h5\n",
      "Epoch 60/100\n",
      "890/890 [==============================] - 2s 3ms/step - loss: 0.6877 - acc: 0.7764 - val_loss: 0.6820 - val_acc: 0.8027\n",
      "\n",
      "Epoch 00060: val_loss did not improve from 0.60839\n",
      "Epoch 61/100\n",
      "890/890 [==============================] - 2s 3ms/step - loss: 0.6461 - acc: 0.7831 - val_loss: 0.6297 - val_acc: 0.7982\n",
      "\n",
      "Epoch 00061: val_loss did not improve from 0.60839\n",
      "Epoch 62/100\n",
      "890/890 [==============================] - 2s 3ms/step - loss: 0.6514 - acc: 0.7820 - val_loss: 0.6399 - val_acc: 0.7982\n",
      "\n",
      "Epoch 00062: val_loss did not improve from 0.60839\n",
      "Epoch 63/100\n",
      "890/890 [==============================] - 2s 3ms/step - loss: 0.6101 - acc: 0.7933 - val_loss: 0.6317 - val_acc: 0.8206\n",
      "\n",
      "Epoch 00063: val_loss did not improve from 0.60839\n",
      "Epoch 64/100\n",
      "890/890 [==============================] - 2s 3ms/step - loss: 0.6315 - acc: 0.7899 - val_loss: 0.6365 - val_acc: 0.8206\n",
      "\n",
      "Epoch 00064: val_loss did not improve from 0.60839\n",
      "Epoch 65/100\n",
      "890/890 [==============================] - 2s 3ms/step - loss: 0.5860 - acc: 0.8079 - val_loss: 0.6322 - val_acc: 0.7982\n",
      "\n",
      "Epoch 00065: val_loss did not improve from 0.60839\n",
      "Epoch 66/100\n",
      "890/890 [==============================] - 2s 3ms/step - loss: 0.6142 - acc: 0.7955 - val_loss: 0.6541 - val_acc: 0.8072\n",
      "\n",
      "Epoch 00066: val_loss did not improve from 0.60839\n",
      "Epoch 67/100\n",
      "890/890 [==============================] - 2s 3ms/step - loss: 0.7070 - acc: 0.7764 - val_loss: 0.6352 - val_acc: 0.8027\n",
      "\n",
      "Epoch 00067: val_loss did not improve from 0.60839\n",
      "Epoch 68/100\n",
      "890/890 [==============================] - 2s 3ms/step - loss: 0.7078 - acc: 0.7876 - val_loss: 0.6412 - val_acc: 0.7892\n",
      "\n",
      "Epoch 00068: val_loss did not improve from 0.60839\n",
      "Epoch 69/100\n",
      "890/890 [==============================] - 2s 3ms/step - loss: 0.6207 - acc: 0.8011 - val_loss: 0.7188 - val_acc: 0.7982\n",
      "\n",
      "Epoch 00069: val_loss did not improve from 0.60839\n",
      "Epoch 70/100\n",
      "890/890 [==============================] - 2s 3ms/step - loss: 0.6041 - acc: 0.7955 - val_loss: 0.6358 - val_acc: 0.8117\n",
      "\n",
      "Epoch 00070: val_loss did not improve from 0.60839\n",
      "Epoch 71/100\n",
      "890/890 [==============================] - 2s 3ms/step - loss: 0.6011 - acc: 0.8112 - val_loss: 0.6325 - val_acc: 0.8117\n",
      "\n",
      "Epoch 00071: val_loss did not improve from 0.60839\n",
      "Epoch 72/100\n",
      "890/890 [==============================] - 2s 3ms/step - loss: 0.5301 - acc: 0.8382 - val_loss: 0.6486 - val_acc: 0.8027\n",
      "\n",
      "Epoch 00072: val_loss did not improve from 0.60839\n",
      "Epoch 73/100\n",
      "890/890 [==============================] - 2s 3ms/step - loss: 0.5570 - acc: 0.8034 - val_loss: 0.5936 - val_acc: 0.8251\n",
      "\n",
      "Epoch 00073: val_loss improved from 0.60839 to 0.59361, saving model to model.h5\n",
      "Epoch 74/100\n",
      "890/890 [==============================] - 2s 3ms/step - loss: 0.5410 - acc: 0.8303 - val_loss: 0.6323 - val_acc: 0.8117\n",
      "\n",
      "Epoch 00074: val_loss did not improve from 0.59361\n",
      "Epoch 75/100\n",
      "890/890 [==============================] - 2s 3ms/step - loss: 0.5399 - acc: 0.8101 - val_loss: 0.5460 - val_acc: 0.8072\n",
      "\n",
      "Epoch 00075: val_loss improved from 0.59361 to 0.54596, saving model to model.h5\n",
      "Epoch 76/100\n",
      "890/890 [==============================] - 2s 3ms/step - loss: 0.5606 - acc: 0.8112 - val_loss: 0.6769 - val_acc: 0.8117\n",
      "\n",
      "Epoch 00076: val_loss did not improve from 0.54596\n",
      "Epoch 77/100\n",
      "890/890 [==============================] - 2s 3ms/step - loss: 0.5133 - acc: 0.8315 - val_loss: 0.5594 - val_acc: 0.8161\n",
      "\n",
      "Epoch 00077: val_loss did not improve from 0.54596\n",
      "Epoch 78/100\n",
      "890/890 [==============================] - 2s 3ms/step - loss: 0.5338 - acc: 0.8202 - val_loss: 0.5819 - val_acc: 0.8161\n",
      "\n",
      "Epoch 00078: val_loss did not improve from 0.54596\n",
      "Epoch 79/100\n",
      "890/890 [==============================] - 2s 3ms/step - loss: 0.5265 - acc: 0.8270 - val_loss: 0.5909 - val_acc: 0.8296\n",
      "\n",
      "Epoch 00079: val_loss did not improve from 0.54596\n",
      "Epoch 80/100\n",
      "890/890 [==============================] - 2s 3ms/step - loss: 0.5336 - acc: 0.8169 - val_loss: 0.5890 - val_acc: 0.8027\n",
      "\n",
      "Epoch 00080: val_loss did not improve from 0.54596\n",
      "Epoch 81/100\n",
      "890/890 [==============================] - 2s 3ms/step - loss: 0.4958 - acc: 0.8382 - val_loss: 0.5775 - val_acc: 0.8117\n",
      "\n",
      "Epoch 00081: val_loss did not improve from 0.54596\n",
      "Epoch 82/100\n",
      "890/890 [==============================] - 2s 3ms/step - loss: 0.4785 - acc: 0.8337 - val_loss: 0.5822 - val_acc: 0.8117\n",
      "\n",
      "Epoch 00082: val_loss did not improve from 0.54596\n",
      "Epoch 83/100\n",
      "890/890 [==============================] - 2s 3ms/step - loss: 0.5036 - acc: 0.8348 - val_loss: 0.6093 - val_acc: 0.8117\n",
      "\n",
      "Epoch 00083: val_loss did not improve from 0.54596\n",
      "Epoch 84/100\n",
      "890/890 [==============================] - 2s 3ms/step - loss: 0.4682 - acc: 0.8528 - val_loss: 0.6763 - val_acc: 0.8117\n",
      "\n",
      "Epoch 00084: val_loss did not improve from 0.54596\n",
      "Epoch 85/100\n",
      "890/890 [==============================] - 2s 3ms/step - loss: 0.4722 - acc: 0.8427 - val_loss: 0.6187 - val_acc: 0.8072\n",
      "\n",
      "Epoch 00085: val_loss did not improve from 0.54596\n",
      "Epoch 86/100\n",
      "890/890 [==============================] - 2s 3ms/step - loss: 0.4698 - acc: 0.8461 - val_loss: 0.6348 - val_acc: 0.8072\n",
      "\n",
      "Epoch 00086: val_loss did not improve from 0.54596\n",
      "Epoch 87/100\n",
      "890/890 [==============================] - 2s 3ms/step - loss: 0.4893 - acc: 0.8326 - val_loss: 0.7569 - val_acc: 0.7892\n",
      "\n",
      "Epoch 00087: val_loss did not improve from 0.54596\n",
      "Epoch 88/100\n",
      "890/890 [==============================] - 2s 3ms/step - loss: 0.4725 - acc: 0.8438 - val_loss: 0.6260 - val_acc: 0.8117\n",
      "\n",
      "Epoch 00088: val_loss did not improve from 0.54596\n",
      "Epoch 89/100\n",
      "890/890 [==============================] - 2s 3ms/step - loss: 0.4730 - acc: 0.8438 - val_loss: 0.6051 - val_acc: 0.8161\n",
      "\n",
      "Epoch 00089: val_loss did not improve from 0.54596\n",
      "Epoch 90/100\n",
      "890/890 [==============================] - 2s 3ms/step - loss: 0.4911 - acc: 0.8438 - val_loss: 0.5733 - val_acc: 0.8251\n",
      "\n",
      "Epoch 00090: val_loss did not improve from 0.54596\n",
      "Epoch 91/100\n",
      "890/890 [==============================] - 2s 3ms/step - loss: 0.4425 - acc: 0.8404 - val_loss: 0.5804 - val_acc: 0.8117\n",
      "\n",
      "Epoch 00091: val_loss did not improve from 0.54596\n",
      "Epoch 92/100\n",
      "890/890 [==============================] - 2s 3ms/step - loss: 0.4360 - acc: 0.8539 - val_loss: 0.5451 - val_acc: 0.8072\n",
      "\n",
      "Epoch 00092: val_loss improved from 0.54596 to 0.54509, saving model to model.h5\n",
      "Epoch 93/100\n",
      "890/890 [==============================] - 2s 3ms/step - loss: 0.4506 - acc: 0.8528 - val_loss: 0.5670 - val_acc: 0.8161\n",
      "\n",
      "Epoch 00093: val_loss did not improve from 0.54509\n",
      "Epoch 94/100\n",
      "890/890 [==============================] - 2s 3ms/step - loss: 0.4119 - acc: 0.8618 - val_loss: 0.5561 - val_acc: 0.8206\n",
      "\n",
      "Epoch 00094: val_loss did not improve from 0.54509\n",
      "Epoch 95/100\n",
      "890/890 [==============================] - 2s 3ms/step - loss: 0.4318 - acc: 0.8629 - val_loss: 0.5851 - val_acc: 0.8206\n",
      "\n",
      "Epoch 00095: val_loss did not improve from 0.54509\n",
      "Epoch 96/100\n",
      "890/890 [==============================] - 2s 3ms/step - loss: 0.4116 - acc: 0.8618 - val_loss: 0.7502 - val_acc: 0.7982\n",
      "\n",
      "Epoch 00096: val_loss did not improve from 0.54509\n",
      "Epoch 97/100\n",
      "890/890 [==============================] - 2s 3ms/step - loss: 0.4734 - acc: 0.8348 - val_loss: 0.6101 - val_acc: 0.8072\n",
      "\n",
      "Epoch 00097: val_loss did not improve from 0.54509\n",
      "Epoch 98/100\n",
      "890/890 [==============================] - 2s 3ms/step - loss: 0.4245 - acc: 0.8494 - val_loss: 0.6180 - val_acc: 0.8161\n",
      "\n",
      "Epoch 00098: val_loss did not improve from 0.54509\n",
      "Epoch 99/100\n",
      "890/890 [==============================] - 2s 3ms/step - loss: 0.3777 - acc: 0.8708 - val_loss: 0.6302 - val_acc: 0.8027\n",
      "\n",
      "Epoch 00099: val_loss did not improve from 0.54509\n",
      "Epoch 100/100\n",
      "890/890 [==============================] - 2s 3ms/step - loss: 0.3928 - acc: 0.8629 - val_loss: 0.5741 - val_acc: 0.8296\n",
      "\n",
      "Epoch 00100: val_loss did not improve from 0.54509\n"
     ]
    }
   ],
   "source": [
    "filename = 'model.h5'\n",
    "checkpoint = ModelCheckpoint(filename, monitor='val_loss', verbose=1, save_best_only=True, mode='min')\n",
    "\n",
    "hist = model.fit(train_X, train_Y, epochs = 100, batch_size = 32, validation_data = (val_X, val_Y), callbacks = [checkpoint])"
   ]
  },
  {
   "cell_type": "code",
   "execution_count": 0,
   "metadata": {
    "colab": {},
    "colab_type": "code",
    "id": "YjXKos8ocXvw"
   },
   "outputs": [],
   "source": [
    " model = load_model(\"model.h5\")"
   ]
  },
  {
   "cell_type": "code",
   "execution_count": 0,
   "metadata": {
    "colab": {},
    "colab_type": "code",
    "id": "qSTEzrlzcuya"
   },
   "outputs": [],
   "source": [
    "def predictions(text):\n",
    "  clean = re.sub(r'[^ a-z A-Z 0-9]', \" \", text)\n",
    "  test_word = word_tokenize(clean)\n",
    "  test_word = [w.lower() for w in test_word]\n",
    "  test_ls = word_tokenizer.texts_to_sequences(test_word)\n",
    "  print(test_word)\n",
    "  #Check for unknown words\n",
    "  if [] in test_ls:\n",
    "    test_ls = list(filter(None, test_ls))\n",
    "    \n",
    "  test_ls = np.array(test_ls).reshape(1, len(test_ls))\n",
    " \n",
    "  x = padding_doc(test_ls, max_length)\n",
    "  \n",
    "  pred = model.predict_proba(x)\n",
    "  \n",
    "  \n",
    "  return pred\n",
    "\n",
    "\n",
    "  "
   ]
  },
  {
   "cell_type": "code",
   "execution_count": 0,
   "metadata": {
    "colab": {},
    "colab_type": "code",
    "id": "P1ddofshmdzK"
   },
   "outputs": [],
   "source": [
    "def get_final_output(pred, classes):\n",
    "  predictions = pred[0]\n",
    " \n",
    "  classes = np.array(classes)\n",
    "  ids = np.argsort(-predictions)\n",
    "  classes = classes[ids]\n",
    "  predictions = -np.sort(-predictions)\n",
    " \n",
    "  for i in range(pred.shape[1]):\n",
    "    print(\"%s has confidence = %s\" % (classes[i], (predictions[i])))\n",
    "\n"
   ]
  },
  {
   "cell_type": "code",
   "execution_count": 0,
   "metadata": {
    "colab": {
     "base_uri": "https://localhost:8080/",
     "height": 391
    },
    "colab_type": "code",
    "id": "23VpGuihMdEU",
    "outputId": "cd36c932-0fb0-4166-92ae-546a7676e645"
   },
   "outputs": [
    {
     "name": "stdout",
     "output_type": "stream",
     "text": [
      "['can', 'you', 'help', 'me']\n",
      "commonQ.bot has confidence = 0.36795393\n",
      "commonQ.assist has confidence = 0.16660453\n",
      "commonQ.name has confidence = 0.099936575\n",
      "commonQ.how has confidence = 0.06334855\n",
      "contact.contact has confidence = 0.054278344\n",
      "commonQ.wait has confidence = 0.052236915\n",
      "commonQ.query has confidence = 0.051277034\n",
      "commonQ.not_giving has confidence = 0.04576558\n",
      "faq.bad_service has confidence = 0.03385044\n",
      "faq.apply_register has confidence = 0.028019888\n",
      "commonQ.just_details has confidence = 0.011791903\n",
      "faq.aadhaar_missing has confidence = 0.0071439296\n",
      "faq.biz_new has confidence = 0.006986265\n",
      "faq.biz_simpler has confidence = 0.004185721\n",
      "faq.address_proof has confidence = 0.0019074384\n",
      "faq.borrow_limit has confidence = 0.001540506\n",
      "faq.biz_category_missing has confidence = 0.0012643315\n",
      "faq.banking_option_missing has confidence = 0.0009443802\n",
      "faq.application_process has confidence = 0.0004247952\n",
      "faq.borrow_use has confidence = 0.0003924411\n",
      "faq.approval_time has confidence = 0.00014650628\n"
     ]
    }
   ],
   "source": [
    "text = \"Can you help me?\"\n",
    "pred = predictions(text)\n",
    "get_final_output(pred, unique_intent)"
   ]
  },
  {
   "cell_type": "code",
   "execution_count": 0,
   "metadata": {
    "colab": {},
    "colab_type": "code",
    "id": "bKUBDT36IHKO"
   },
   "outputs": [],
   "source": []
  }
 ],
 "metadata": {
  "accelerator": "TPU",
  "colab": {
   "collapsed_sections": [],
   "include_colab_link": true,
   "name": "Intent_classification_final.ipynb",
   "provenance": [],
   "version": "0.3.2"
  },
  "kernelspec": {
   "display_name": "Python 3",
   "language": "python",
   "name": "python3"
  },
  "language_info": {
   "codemirror_mode": {
    "name": "ipython",
    "version": 3
   },
   "file_extension": ".py",
   "mimetype": "text/x-python",
   "name": "python",
   "nbconvert_exporter": "python",
   "pygments_lexer": "ipython3",
   "version": "3.6.7"
  }
 },
 "nbformat": 4,
 "nbformat_minor": 1
}
