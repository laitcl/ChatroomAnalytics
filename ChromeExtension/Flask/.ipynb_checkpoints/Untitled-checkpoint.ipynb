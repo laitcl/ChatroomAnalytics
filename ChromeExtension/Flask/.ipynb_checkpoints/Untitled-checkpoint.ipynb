{
 "cells": [
  {
   "cell_type": "code",
   "execution_count": 35,
   "metadata": {},
   "outputs": [
    {
     "name": "stdout",
     "output_type": "stream",
     "text": [
      "Connection to PostgreSQL successful\n"
     ]
    }
   ],
   "source": [
    "import psycopg2\n",
    "import operator\n",
    "import time\n",
    "\n",
    "with open ('PostgresPass.txt', 'r') as file:\n",
    "    passwordstring = file.readline().split(\"\\n\")[0]\n",
    "try:\n",
    "    conn = psycopg2.connect(user = \"laitcl\",\n",
    "                                 password = passwordstring,\n",
    "                                 host = \"ec2-3-80-4-183.compute-1.amazonaws.com\",\n",
    "                                 port = \"5432\",\n",
    "                                 database = \"testpython\")\n",
    "    # create a psycopg2 cursor that can execute queries\n",
    "    cur = conn.cursor()\n",
    "    # create a new table with a single column called \"name\"\n",
    "    print('Connection to PostgreSQL successful')\n",
    "except Exception as e:\n",
    "    print(\"Can't connect. Invalid dbname, user or password?\")\n",
    "    print(e)"
   ]
  },
  {
   "cell_type": "code",
   "execution_count": 47,
   "metadata": {},
   "outputs": [],
   "source": [
    "timetocollect = 10000000\n",
    "channelname = 'disguisedtoast'\n",
    "SQL = \"select * from chatanalytics where (extract(epoch from now()::timestamp)-extract(epoch from (date ||' '||time)::timestamp))<%d and channelname = '%s';\" % (timetocollect, channelname)\n",
    "#cur.execute(SQL)\n",
    "cur.execute(SQL)\n",
    "data = cur.fetchall()\n"
   ]
  },
  {
   "cell_type": "code",
   "execution_count": 48,
   "metadata": {
    "scrolled": true
   },
   "outputs": [
    {
     "name": "stdout",
     "output_type": "stream",
     "text": [
      "[(161, 'disguisedtoast', datetime.date(2019, 6, 25), datetime.time(0, 20, 41, 487360), 1, 0, 1, 0, 0), (175, 'disguisedtoast', datetime.date(2019, 6, 25), datetime.time(0, 20, 46, 732742), 35, 8, 21, 4, 2), (206, 'disguisedtoast', datetime.date(2019, 6, 25), datetime.time(0, 20, 52, 858929), 5, 3, 2, 0, 0), (562, 'disguisedtoast', datetime.date(2019, 6, 25), datetime.time(0, 55, 47, 994696), 16, 5, 8, 3, 0), (578, 'disguisedtoast', datetime.date(2019, 6, 25), datetime.time(0, 55, 53, 19585), 0, 0, 0, 0, 0), (596, 'disguisedtoast', datetime.date(2019, 6, 25), datetime.time(1, 14, 45, 516001), 26, 7, 14, 0, 5), (615, 'disguisedtoast', datetime.date(2019, 6, 25), datetime.time(1, 14, 50, 541534), 7, 2, 4, 1, 0), (657, 'disguisedtoast', datetime.date(2019, 6, 25), datetime.time(1, 14, 55, 650067), 5, 1, 1, 3, 0), (699, 'disguisedtoast', datetime.date(2019, 6, 25), datetime.time(1, 15, 0, 810503), 7, 3, 4, 0, 0), (741, 'disguisedtoast', datetime.date(2019, 6, 25), datetime.time(1, 15, 5, 986074), 2, 1, 1, 0, 0), (784, 'disguisedtoast', datetime.date(2019, 6, 25), datetime.time(1, 15, 11, 36342), 9, 3, 5, 0, 1), (827, 'disguisedtoast', datetime.date(2019, 6, 25), datetime.time(1, 15, 16, 93054), 6, 0, 6, 0, 0), (929, 'disguisedtoast', datetime.date(2019, 6, 25), datetime.time(1, 16, 21, 888414), 1, 0, 0, 0, 1), (942, 'disguisedtoast', datetime.date(2019, 6, 25), datetime.time(1, 16, 26, 932842), 4, 2, 1, 0, 1), (959, 'disguisedtoast', datetime.date(2019, 6, 25), datetime.time(1, 16, 32, 81564), 7, 1, 5, 0, 1), (982, 'disguisedtoast', datetime.date(2019, 6, 25), datetime.time(1, 16, 37, 141201), 7, 0, 5, 0, 2), (1010, 'disguisedtoast', datetime.date(2019, 6, 25), datetime.time(1, 16, 42, 232303), 3, 0, 2, 0, 1), (1042, 'disguisedtoast', datetime.date(2019, 6, 25), datetime.time(1, 16, 47, 278359), 6, 2, 1, 1, 2), (1077, 'disguisedtoast', datetime.date(2019, 6, 25), datetime.time(1, 16, 52, 364842), 5, 1, 4, 0, 0), (1114, 'disguisedtoast', datetime.date(2019, 6, 25), datetime.time(1, 16, 57, 453981), 4, 1, 1, 0, 2), (1153, 'disguisedtoast', datetime.date(2019, 6, 25), datetime.time(1, 17, 2, 618947), 2, 0, 2, 0, 0), (1192, 'disguisedtoast', datetime.date(2019, 6, 25), datetime.time(1, 17, 7, 669608), 2, 1, 1, 0, 0), (1231, 'disguisedtoast', datetime.date(2019, 6, 25), datetime.time(1, 17, 12, 824247), 4, 1, 2, 0, 1), (1272, 'disguisedtoast', datetime.date(2019, 6, 25), datetime.time(1, 17, 17, 875609), 6, 2, 3, 0, 1), (1314, 'disguisedtoast', datetime.date(2019, 6, 25), datetime.time(1, 17, 22, 946399), 3, 0, 2, 1, 0), (1357, 'disguisedtoast', datetime.date(2019, 6, 25), datetime.time(1, 17, 28, 25313), 2, 0, 2, 0, 0), (1400, 'disguisedtoast', datetime.date(2019, 6, 25), datetime.time(1, 17, 33, 180878), 5, 2, 3, 0, 0), (1432, 'disguisedtoast', datetime.date(2019, 6, 25), datetime.time(1, 21, 44, 903637), 2, 1, 1, 0, 0), (1453, 'disguisedtoast', datetime.date(2019, 6, 25), datetime.time(1, 21, 50, 105989), 0, 0, 0, 0, 0), (1475, 'disguisedtoast', datetime.date(2019, 6, 25), datetime.time(1, 21, 55, 288798), 0, 0, 0, 0, 0), (1498, 'disguisedtoast', datetime.date(2019, 6, 25), datetime.time(1, 22, 0, 462515), 0, 0, 0, 0, 0), (1521, 'disguisedtoast', datetime.date(2019, 6, 25), datetime.time(1, 22, 5, 565411), 0, 0, 0, 0, 0), (1545, 'disguisedtoast', datetime.date(2019, 6, 25), datetime.time(1, 22, 10, 666335), 0, 0, 0, 0, 0), (1570, 'disguisedtoast', datetime.date(2019, 6, 25), datetime.time(1, 22, 15, 770544), 0, 0, 0, 0, 0), (1596, 'disguisedtoast', datetime.date(2019, 6, 25), datetime.time(1, 22, 21, 20149), 0, 0, 0, 0, 0), (1622, 'disguisedtoast', datetime.date(2019, 6, 25), datetime.time(1, 22, 26, 161488), 0, 0, 0, 0, 0), (1648, 'disguisedtoast', datetime.date(2019, 6, 25), datetime.time(1, 22, 31, 354805), 0, 0, 0, 0, 0), (1675, 'disguisedtoast', datetime.date(2019, 6, 25), datetime.time(1, 22, 36, 522395), 0, 0, 0, 0, 0), (1702, 'disguisedtoast', datetime.date(2019, 6, 25), datetime.time(1, 22, 41, 582251), 0, 0, 0, 0, 0), (1729, 'disguisedtoast', datetime.date(2019, 6, 25), datetime.time(1, 22, 46, 740059), 3, 0, 2, 1, 0), (1757, 'disguisedtoast', datetime.date(2019, 6, 25), datetime.time(1, 22, 52, 110834), 8, 0, 5, 0, 3), (1786, 'disguisedtoast', datetime.date(2019, 6, 25), datetime.time(1, 22, 57, 151446), 5, 0, 3, 1, 1), (1818, 'disguisedtoast', datetime.date(2019, 6, 25), datetime.time(1, 23, 2, 207273), 1, 0, 0, 0, 1), (1851, 'disguisedtoast', datetime.date(2019, 6, 25), datetime.time(1, 23, 7, 386083), 3, 1, 2, 0, 0), (1887, 'disguisedtoast', datetime.date(2019, 6, 25), datetime.time(1, 23, 12, 468400), 2, 0, 1, 1, 0), (1925, 'disguisedtoast', datetime.date(2019, 6, 25), datetime.time(1, 23, 17, 530186), 4, 0, 3, 0, 1), (1965, 'disguisedtoast', datetime.date(2019, 6, 25), datetime.time(1, 23, 22, 581546), 1, 1, 0, 0, 0), (2006, 'disguisedtoast', datetime.date(2019, 6, 25), datetime.time(1, 23, 27, 666503), 1, 0, 1, 0, 0), (2047, 'disguisedtoast', datetime.date(2019, 6, 25), datetime.time(1, 23, 32, 721651), 3, 0, 3, 0, 0), (2089, 'disguisedtoast', datetime.date(2019, 6, 25), datetime.time(1, 23, 37, 963641), 5, 1, 4, 0, 0), (2139, 'disguisedtoast', datetime.date(2019, 6, 25), datetime.time(1, 25, 44, 26198), 9, 1, 8, 0, 0), (2233, 'disguisedtoast', datetime.date(2019, 6, 25), datetime.time(2, 31, 11, 561357), 6, 4, 2, 0, 0), (2250, 'disguisedtoast', datetime.date(2019, 6, 25), datetime.time(2, 31, 16, 589653), 6, 5, 1, 0, 0), (2272, 'disguisedtoast', datetime.date(2019, 6, 25), datetime.time(2, 31, 21, 766040), 6, 4, 2, 0, 0), (2297, 'disguisedtoast', datetime.date(2019, 6, 25), datetime.time(2, 31, 26, 811968), 6, 2, 4, 0, 0), (2326, 'disguisedtoast', datetime.date(2019, 6, 25), datetime.time(2, 31, 31, 858252), 2, 0, 2, 0, 0), (2357, 'disguisedtoast', datetime.date(2019, 6, 25), datetime.time(2, 31, 36, 901887), 5, 1, 3, 1, 0), (2391, 'disguisedtoast', datetime.date(2019, 6, 25), datetime.time(2, 31, 42, 39764), 3, 3, 0, 0, 0), (2425, 'disguisedtoast', datetime.date(2019, 6, 25), datetime.time(2, 33, 24, 887403), 3, 1, 2, 0, 0), (2451, 'disguisedtoast', datetime.date(2019, 6, 25), datetime.time(2, 33, 30, 117720), 0, 0, 0, 0, 0), (2524, 'disguisedtoast', datetime.date(2019, 6, 25), datetime.time(2, 38, 41, 931289), 15, 11, 3, 1, 0), (2538, 'disguisedtoast', datetime.date(2019, 6, 25), datetime.time(2, 38, 46, 955375), 18, 14, 4, 0, 0), (2560, 'disguisedtoast', datetime.date(2019, 6, 25), datetime.time(2, 38, 51, 994381), 17, 9, 6, 0, 2), (2589, 'disguisedtoast', datetime.date(2019, 6, 25), datetime.time(2, 38, 57, 78658), 6, 4, 1, 0, 1), (2621, 'disguisedtoast', datetime.date(2019, 6, 25), datetime.time(2, 39, 2, 150583), 6, 5, 0, 1, 0), (2653, 'disguisedtoast', datetime.date(2019, 6, 25), datetime.time(2, 39, 7, 192381), 7, 4, 2, 0, 1), (2687, 'disguisedtoast', datetime.date(2019, 6, 25), datetime.time(2, 42, 40, 182036), 24, 10, 12, 0, 2), (2790, 'disguisedtoast', datetime.date(2019, 6, 25), datetime.time(2, 43, 22, 539599), 1, 1, 0, 0, 0), (2814, 'disguisedtoast', datetime.date(2019, 6, 25), datetime.time(2, 43, 27, 589477), 4, 0, 3, 0, 1), (2843, 'disguisedtoast', datetime.date(2019, 6, 25), datetime.time(2, 43, 32, 630267), 4, 1, 1, 0, 2), (2878, 'disguisedtoast', datetime.date(2019, 6, 25), datetime.time(2, 43, 38, 84882), 3, 1, 2, 0, 0), (2914, 'disguisedtoast', datetime.date(2019, 6, 25), datetime.time(2, 43, 43, 179386), 4, 3, 0, 0, 1), (2953, 'disguisedtoast', datetime.date(2019, 6, 25), datetime.time(2, 43, 48, 246296), 10, 2, 6, 2, 0), (2992, 'disguisedtoast', datetime.date(2019, 6, 25), datetime.time(2, 43, 53, 480810), 18, 8, 4, 3, 3), (3017, 'disguisedtoast', datetime.date(2019, 6, 25), datetime.time(2, 47, 31, 551943), 115, 44, 50, 5, 16), (3024, 'disguisedtoast', datetime.date(2019, 6, 25), datetime.time(2, 47, 36, 563977), 0, 0, 0, 0, 0), (3040, 'disguisedtoast', datetime.date(2019, 6, 25), datetime.time(2, 47, 41, 584739), 0, 0, 0, 0, 0), (3063, 'disguisedtoast', datetime.date(2019, 6, 25), datetime.time(2, 47, 46, 613852), 0, 0, 0, 0, 0), (3131, 'disguisedtoast', datetime.date(2019, 6, 25), datetime.time(2, 49, 39, 331871), 1, 0, 1, 0, 0), (3147, 'disguisedtoast', datetime.date(2019, 6, 25), datetime.time(2, 49, 44, 483234), 7, 3, 4, 0, 0), (3170, 'disguisedtoast', datetime.date(2019, 6, 25), datetime.time(2, 49, 49, 534178), 8, 4, 4, 0, 0), (3200, 'disguisedtoast', datetime.date(2019, 6, 25), datetime.time(2, 49, 54, 579037), 4, 3, 1, 0, 0), (3235, 'disguisedtoast', datetime.date(2019, 6, 25), datetime.time(2, 49, 59, 630012), 6, 1, 5, 0, 0), (3272, 'disguisedtoast', datetime.date(2019, 6, 25), datetime.time(2, 50, 4, 680722), 11, 7, 3, 1, 0), (3312, 'disguisedtoast', datetime.date(2019, 6, 25), datetime.time(2, 50, 9, 759567), 6, 4, 2, 0, 0), (3353, 'disguisedtoast', datetime.date(2019, 6, 25), datetime.time(2, 50, 14, 812462), 3, 1, 2, 0, 0), (3394, 'disguisedtoast', datetime.date(2019, 6, 25), datetime.time(2, 50, 19, 902711), 2, 0, 1, 0, 1), (3436, 'disguisedtoast', datetime.date(2019, 6, 25), datetime.time(2, 50, 24, 954155), 6, 2, 3, 1, 0), (3478, 'disguisedtoast', datetime.date(2019, 6, 25), datetime.time(2, 50, 30, 288065), 9, 1, 8, 0, 0), (3507, 'disguisedtoast', datetime.date(2019, 6, 25), datetime.time(2, 51, 33, 217288), 163, 70, 79, 8, 6), (3519, 'disguisedtoast', datetime.date(2019, 6, 25), datetime.time(2, 51, 38, 233633), 0, 0, 0, 0, 0), (3598, 'disguisedtoast', datetime.date(2019, 6, 25), datetime.time(2, 52, 40, 218497), 15, 2, 12, 1, 0), (3612, 'disguisedtoast', datetime.date(2019, 6, 25), datetime.time(2, 52, 45, 248875), 49, 12, 37, 0, 0), (3633, 'disguisedtoast', datetime.date(2019, 6, 25), datetime.time(2, 52, 50, 277987), 28, 10, 17, 1, 0), (3660, 'disguisedtoast', datetime.date(2019, 6, 25), datetime.time(2, 52, 55, 316278), 20, 6, 11, 2, 1), (3694, 'disguisedtoast', datetime.date(2019, 6, 25), datetime.time(2, 53, 0, 363566), 12, 5, 7, 0, 0), (3731, 'disguisedtoast', datetime.date(2019, 6, 25), datetime.time(2, 53, 5, 423961), 14, 10, 4, 0, 0), (3771, 'disguisedtoast', datetime.date(2019, 6, 25), datetime.time(2, 53, 10, 475594), 13, 9, 3, 0, 1), (3813, 'disguisedtoast', datetime.date(2019, 6, 25), datetime.time(2, 53, 15, 532980), 22, 14, 7, 1, 0), (3910, 'disguisedtoast', datetime.date(2019, 6, 25), datetime.time(3, 4, 49, 58248), 26, 13, 8, 3, 2), (3922, 'disguisedtoast', datetime.date(2019, 6, 25), datetime.time(3, 4, 54, 75486), 0, 0, 0, 0, 0)]\n"
     ]
    }
   ],
   "source": [
    "print(data)"
   ]
  },
  {
   "cell_type": "code",
   "execution_count": 40,
   "metadata": {},
   "outputs": [],
   "source": [
    "timevector =[]\n",
    "nummessagevector = []\n",
    "sentimentvector = []\n",
    "sentiment = {}\n",
    "\n",
    "for datapoint in data:\n",
    "    timevector.append(datapoint[3].strftime(\"%H:%M:%S\"))\n",
    "    nummessagevector.append(datapoint[4])  \n",
    "    nquestion = datapoint[5]\n",
    "    ndisappointment = datapoint[6]\n",
    "    nfunny = datapoint[7]\n",
    "    nneutral = datapoint[8]\n",
    "    sentiment[\"question\"] = nquestion\n",
    "    sentiment[\"disappointment\"] = ndisappointment\n",
    "    sentiment[\"funny\"] = nfunny\n",
    "    sentiment[\"neutral\"] = nneutral\n",
    "    latestchannelsentiment = max(sentiment.items(), key=operator.itemgetter(1))[0]\n",
    "    sentimentvector.append(latestchannelsentiment)\n"
   ]
  },
  {
   "cell_type": "code",
   "execution_count": null,
   "metadata": {},
   "outputs": [],
   "source": []
  },
  {
   "cell_type": "code",
   "execution_count": null,
   "metadata": {},
   "outputs": [],
   "source": []
  }
 ],
 "metadata": {
  "kernelspec": {
   "display_name": "Python 3",
   "language": "python",
   "name": "python3"
  },
  "language_info": {
   "codemirror_mode": {
    "name": "ipython",
    "version": 3
   },
   "file_extension": ".py",
   "mimetype": "text/x-python",
   "name": "python",
   "nbconvert_exporter": "python",
   "pygments_lexer": "ipython3",
   "version": "3.6.8"
  }
 },
 "nbformat": 4,
 "nbformat_minor": 2
}
